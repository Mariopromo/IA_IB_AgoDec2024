{
  "nbformat": 4,
  "nbformat_minor": 0,
  "metadata": {
    "colab": {
      "provenance": [],
      "authorship_tag": "ABX9TyPVxE+46CdsDKWi63riioWh",
      "include_colab_link": true
    },
    "kernelspec": {
      "name": "python3",
      "display_name": "Python 3"
    },
    "language_info": {
      "name": "python"
    }
  },
  "cells": [
    {
      "cell_type": "markdown",
      "metadata": {
        "id": "view-in-github",
        "colab_type": "text"
      },
      "source": [
        "<a href=\"https://colab.research.google.com/github/Mariopromo/IA_IB_AgoDec2024/blob/main/A7.ipynb\" target=\"_parent\"><img src=\"https://colab.research.google.com/assets/colab-badge.svg\" alt=\"Open In Colab\"/></a>"
      ]
    },
    {
      "cell_type": "code",
      "execution_count": 2,
      "metadata": {
        "colab": {
          "base_uri": "https://localhost:8080/"
        },
        "id": "twe6WxcCbg0y",
        "outputId": "96822909-d5ed-4c2e-f06a-b762b577d559"
      },
      "outputs": [
        {
          "output_type": "stream",
          "name": "stdout",
          "text": [
            "Epoch 1/10\n",
            "\u001b[1m1875/1875\u001b[0m \u001b[32m━━━━━━━━━━━━━━━━━━━━\u001b[0m\u001b[37m\u001b[0m \u001b[1m62s\u001b[0m 32ms/step - accuracy: 0.8641 - loss: 0.4259 - val_accuracy: 0.9842 - val_loss: 0.0494\n",
            "Epoch 2/10\n",
            "\u001b[1m1875/1875\u001b[0m \u001b[32m━━━━━━━━━━━━━━━━━━━━\u001b[0m\u001b[37m\u001b[0m \u001b[1m59s\u001b[0m 32ms/step - accuracy: 0.9741 - loss: 0.0882 - val_accuracy: 0.9899 - val_loss: 0.0313\n",
            "Epoch 3/10\n",
            "\u001b[1m1875/1875\u001b[0m \u001b[32m━━━━━━━━━━━━━━━━━━━━\u001b[0m\u001b[37m\u001b[0m \u001b[1m83s\u001b[0m 32ms/step - accuracy: 0.9816 - loss: 0.0616 - val_accuracy: 0.9898 - val_loss: 0.0336\n",
            "Epoch 4/10\n",
            "\u001b[1m1875/1875\u001b[0m \u001b[32m━━━━━━━━━━━━━━━━━━━━\u001b[0m\u001b[37m\u001b[0m \u001b[1m80s\u001b[0m 31ms/step - accuracy: 0.9854 - loss: 0.0464 - val_accuracy: 0.9909 - val_loss: 0.0287\n",
            "Epoch 5/10\n",
            "\u001b[1m1875/1875\u001b[0m \u001b[32m━━━━━━━━━━━━━━━━━━━━\u001b[0m\u001b[37m\u001b[0m \u001b[1m57s\u001b[0m 31ms/step - accuracy: 0.9871 - loss: 0.0405 - val_accuracy: 0.9918 - val_loss: 0.0274\n",
            "Epoch 6/10\n",
            "\u001b[1m1875/1875\u001b[0m \u001b[32m━━━━━━━━━━━━━━━━━━━━\u001b[0m\u001b[37m\u001b[0m \u001b[1m83s\u001b[0m 31ms/step - accuracy: 0.9904 - loss: 0.0311 - val_accuracy: 0.9912 - val_loss: 0.0284\n",
            "Epoch 7/10\n",
            "\u001b[1m1875/1875\u001b[0m \u001b[32m━━━━━━━━━━━━━━━━━━━━\u001b[0m\u001b[37m\u001b[0m \u001b[1m81s\u001b[0m 31ms/step - accuracy: 0.9909 - loss: 0.0282 - val_accuracy: 0.9916 - val_loss: 0.0310\n",
            "Epoch 8/10\n",
            "\u001b[1m1875/1875\u001b[0m \u001b[32m━━━━━━━━━━━━━━━━━━━━\u001b[0m\u001b[37m\u001b[0m \u001b[1m60s\u001b[0m 32ms/step - accuracy: 0.9910 - loss: 0.0276 - val_accuracy: 0.9923 - val_loss: 0.0294\n",
            "Epoch 9/10\n",
            "\u001b[1m1875/1875\u001b[0m \u001b[32m━━━━━━━━━━━━━━━━━━━━\u001b[0m\u001b[37m\u001b[0m \u001b[1m80s\u001b[0m 31ms/step - accuracy: 0.9938 - loss: 0.0197 - val_accuracy: 0.9922 - val_loss: 0.0273\n",
            "Epoch 10/10\n",
            "\u001b[1m1875/1875\u001b[0m \u001b[32m━━━━━━━━━━━━━━━━━━━━\u001b[0m\u001b[37m\u001b[0m \u001b[1m81s\u001b[0m 31ms/step - accuracy: 0.9937 - loss: 0.0204 - val_accuracy: 0.9922 - val_loss: 0.0305\n",
            "313/313 - 4s - 11ms/step - accuracy: 0.9922 - loss: 0.0305\n",
            "Test accuracy: 0.9922000169754028\n",
            "\u001b[1m1/1\u001b[0m \u001b[32m━━━━━━━━━━━━━━━━━━━━\u001b[0m\u001b[37m\u001b[0m \u001b[1m0s\u001b[0m 130ms/step\n",
            "Predicted: 7, Actual: 7\n",
            "Predicted: 2, Actual: 2\n",
            "Predicted: 1, Actual: 1\n",
            "Predicted: 0, Actual: 0\n",
            "Predicted: 4, Actual: 4\n"
          ]
        }
      ],
      "source": [
        "import tensorflow as tf\n",
        "from tensorflow.keras.models import Sequential\n",
        "from tensorflow.keras.layers import Conv2D, MaxPooling2D, Flatten, Dense, Dropout\n",
        "from tensorflow.keras.datasets import mnist\n",
        "from tensorflow.keras.utils import to_categorical\n",
        "\n",
        "# Carga y preprocesamiento de datos\n",
        "(train_images, train_targets), (test_images, test_targets) = mnist.load_data()\n",
        "train_images = train_images.reshape(train_images.shape[0], 28, 28, 1).astype('float32') / 255\n",
        "test_images = test_images.reshape(test_images.shape[0], 28, 28, 1).astype('float32') / 255\n",
        "\n",
        "train_targets = to_categorical(train_targets, 10)\n",
        "test_targets = to_categorical(test_targets, 10)\n",
        "\n",
        "# Creación del modelo\n",
        "digit_model = Sequential([\n",
        "    Conv2D(32, (3, 3), activation='relu', input_shape=(28, 28, 1)),\n",
        "    MaxPooling2D(pool_size=(2, 2)),\n",
        "    Conv2D(64, (3, 3), activation='relu'),\n",
        "    MaxPooling2D(pool_size=(2, 2)),\n",
        "    Flatten(),\n",
        "    Dense(128, activation='relu'),\n",
        "    Dropout(0.5),\n",
        "    Dense(10, activation='softmax')\n",
        "])\n",
        "\n",
        "# Compilación del modelo\n",
        "digit_model.compile(optimizer='adam', loss='categorical_crossentropy', metrics=['accuracy'])\n",
        "\n",
        "# Entrenamiento del modelo\n",
        "training_history = digit_model.fit(\n",
        "    train_images, train_targets,\n",
        "    epochs=10,\n",
        "    batch_size=32,\n",
        "    validation_data=(test_images, test_targets)\n",
        ")\n",
        "\n",
        "# Evaluación del modelo\n",
        "evaluation_loss, evaluation_accuracy = digit_model.evaluate(test_images, test_targets, verbose=2)\n",
        "print(f\"Test accuracy: {evaluation_accuracy}\")\n",
        "\n",
        "# Predicciones\n",
        "import numpy as np\n",
        "predicted_outputs = digit_model.predict(test_images[:5])\n",
        "\n",
        "for i in range(5):\n",
        "    print(f\"Predicted: {np.argmax(predicted_outputs[i])}, Actual: {np.argmax(test_targets[i])}\")\n"
      ]
    }
  ]
}